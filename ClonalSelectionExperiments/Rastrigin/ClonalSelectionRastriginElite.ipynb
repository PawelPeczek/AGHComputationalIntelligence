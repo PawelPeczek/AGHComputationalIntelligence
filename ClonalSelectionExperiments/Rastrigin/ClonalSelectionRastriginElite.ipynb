{
 "cells": [
  {
   "cell_type": "code",
   "execution_count": 3,
   "metadata": {},
   "outputs": [],
   "source": [
    "import sys\n",
    "\n",
    "sys.path.append(\"../../\")"
   ]
  },
  {
   "cell_type": "code",
   "execution_count": 4,
   "metadata": {},
   "outputs": [],
   "source": [
    "from clonal_selection.clonal_selection_anti_worse_pro_elite import ClonalSelectionAntiWorseProElite\n",
    "from clonal_selection.util import get_mean_solution, get_mean_result, get_mean_history\n",
    "from jmetal.problem.singleobjective.unconstrained import Rastrigin\n",
    "from jmetal.util.termination_criterion import StoppingByEvaluations\n",
    "\n",
    "from jmetal.operator import PolynomialMutation, SimpleRandomMutation"
   ]
  },
  {
   "cell_type": "code",
   "execution_count": 5,
   "metadata": {},
   "outputs": [],
   "source": [
    "import itertools \n",
    "import json"
   ]
  },
  {
   "cell_type": "markdown",
   "metadata": {},
   "source": [
    "# Clonal Selection Elite"
   ]
  },
  {
   "cell_type": "code",
   "execution_count": 6,
   "metadata": {},
   "outputs": [
    {
     "name": "stdout",
     "output_type": "stream",
     "text": [
      "128\n"
     ]
    }
   ],
   "source": [
    "number_of_variables = [50, 100] # 500?\n",
    "population_size = [100, 200]\n",
    "selection_size = [2/20, 5/20]\n",
    "push_pull_random = [(1/3,1/3,1/3), (1/2, 1/2, 0)]\n",
    "mutation_probability = [1,3]\n",
    "clone_rate = [1/20,2/20]\n",
    "random_cells_number = [2/20,5/20]\n",
    "\n",
    "grid = [number_of_variables, population_size, selection_size, push_pull_random, mutation_probability, clone_rate, random_cells_number]\n",
    "\n",
    "grid = list(itertools.product(*grid))\n",
    "# pprint(grid[:5])\n",
    "print(len(grid))"
   ]
  },
  {
   "cell_type": "code",
   "execution_count": 10,
   "metadata": {},
   "outputs": [
    {
     "name": "stdout",
     "output_type": "stream",
     "text": [
      "Algorithm: CLONAL-ANTI-PRO\n",
      "Problem: Rastrigin\n",
      "Solution: [-2.30225736 -1.02697922 -1.64792593 -1.92689512  0.98816782 -0.37294581\n",
      " -0.39134617 -1.33483869 -0.78787786  1.24439247 -0.42828376 -0.66255465\n",
      "  1.26612399  1.61340558  0.0916971   0.76655605  1.78770435 -0.69501955\n",
      " -1.48874549 -0.91740149 -1.34317673 -0.55905864  1.29251851 -0.25686312\n",
      "  1.0745189  -0.74386997 -2.89277768 -1.44635116  0.45389902  0.20033707\n",
      "  1.59464179  0.49744663 -1.26953993  2.47042876 -1.02816715 -0.94057629\n",
      "  0.65737688 -1.44631458  2.72108091 -0.38363306  0.59114518 -2.89598232\n",
      " -0.49178102  1.708348   -0.59314645 -1.10611978 -0.46397832 -2.1412396\n",
      "  0.93818193  0.46217701]\n",
      "Fitness:  598.4992773114753\n",
      "Algorithm: CLONAL-ANTI-PRO\n",
      "Problem: Rastrigin\n",
      "Solution: [ 0.27379008  0.14256893 -1.0331286   0.25293715  3.30713411  1.59860572\n",
      "  0.39027859  0.25221859 -2.42176278 -0.50635152  0.50929952  0.56666405\n",
      "  0.3146597   0.3443645  -2.11988056 -3.1799631  -0.74627413 -0.15327692\n",
      " -0.29279691 -0.24991176  0.8299774  -1.48447883 -0.95054738 -2.03503951\n",
      "  2.96407879  2.64846859  0.38190215 -0.75457893 -1.31111932  0.25678475\n",
      "  0.75055936 -2.36907186 -0.19662442 -1.73986349  1.17103062  2.1473022\n",
      " -0.67533807  1.89666061  0.19465637 -1.63151389  2.16137483  0.04577334\n",
      "  0.02941516 -2.94117239  1.18457502  1.65016907  2.47923513 -1.63349427\n",
      " -3.19832514  0.64399556]\n",
      "Fitness:  583.0790011004564\n"
     ]
    },
    {
     "ename": "KeyboardInterrupt",
     "evalue": "",
     "output_type": "error",
     "traceback": [
      "\u001B[0;31m---------------------------------------------------------------------------\u001B[0m",
      "\u001B[0;31mKeyboardInterrupt\u001B[0m                         Traceback (most recent call last)",
      "\u001B[0;32m<ipython-input-10-9c81adbfc25b>\u001B[0m in \u001B[0;36m<module>\u001B[0;34m\u001B[0m\n\u001B[1;32m     21\u001B[0m         )\n\u001B[1;32m     22\u001B[0m \u001B[0;34m\u001B[0m\u001B[0m\n\u001B[0;32m---> 23\u001B[0;31m         \u001B[0mcs_algo\u001B[0m\u001B[0;34m.\u001B[0m\u001B[0mrun\u001B[0m\u001B[0;34m(\u001B[0m\u001B[0;34m)\u001B[0m\u001B[0;34m\u001B[0m\u001B[0;34m\u001B[0m\u001B[0m\n\u001B[0m\u001B[1;32m     24\u001B[0m         \u001B[0mresults\u001B[0m\u001B[0;34m.\u001B[0m\u001B[0mappend\u001B[0m\u001B[0;34m(\u001B[0m\u001B[0mcs_algo\u001B[0m\u001B[0;34m.\u001B[0m\u001B[0mget_result\u001B[0m\u001B[0;34m(\u001B[0m\u001B[0;34m)\u001B[0m\u001B[0;34m)\u001B[0m\u001B[0;34m\u001B[0m\u001B[0;34m\u001B[0m\u001B[0m\n\u001B[1;32m     25\u001B[0m         \u001B[0mhistories\u001B[0m\u001B[0;34m.\u001B[0m\u001B[0mappend\u001B[0m\u001B[0;34m(\u001B[0m\u001B[0;34m[\u001B[0m\u001B[0ms\u001B[0m\u001B[0;34m.\u001B[0m\u001B[0mobjectives\u001B[0m\u001B[0;34m[\u001B[0m\u001B[0;36m0\u001B[0m\u001B[0;34m]\u001B[0m \u001B[0;32mfor\u001B[0m \u001B[0ms\u001B[0m \u001B[0;32min\u001B[0m \u001B[0mcs_algo\u001B[0m\u001B[0;34m.\u001B[0m\u001B[0mhistory\u001B[0m\u001B[0;34m]\u001B[0m\u001B[0;34m)\u001B[0m\u001B[0;34m\u001B[0m\u001B[0;34m\u001B[0m\u001B[0m\n",
      "\u001B[0;32m~/Documents/WIET/IntObl/AGHComputationalIntelligence/jmetal/core/algorithm.py\u001B[0m in \u001B[0;36mrun\u001B[0;34m(self)\u001B[0m\n\u001B[1;32m     86\u001B[0m         \u001B[0mLOGGER\u001B[0m\u001B[0;34m.\u001B[0m\u001B[0mdebug\u001B[0m\u001B[0;34m(\u001B[0m\u001B[0;34m'Running main loop until termination criteria is met'\u001B[0m\u001B[0;34m)\u001B[0m\u001B[0;34m\u001B[0m\u001B[0;34m\u001B[0m\u001B[0m\n\u001B[1;32m     87\u001B[0m         \u001B[0;32mwhile\u001B[0m \u001B[0;32mnot\u001B[0m \u001B[0mself\u001B[0m\u001B[0;34m.\u001B[0m\u001B[0mstopping_condition_is_met\u001B[0m\u001B[0;34m(\u001B[0m\u001B[0;34m)\u001B[0m\u001B[0;34m:\u001B[0m\u001B[0;34m\u001B[0m\u001B[0;34m\u001B[0m\u001B[0m\n\u001B[0;32m---> 88\u001B[0;31m             \u001B[0mself\u001B[0m\u001B[0;34m.\u001B[0m\u001B[0mstep\u001B[0m\u001B[0;34m(\u001B[0m\u001B[0;34m)\u001B[0m\u001B[0;34m\u001B[0m\u001B[0;34m\u001B[0m\u001B[0m\n\u001B[0m\u001B[1;32m     89\u001B[0m             \u001B[0mself\u001B[0m\u001B[0;34m.\u001B[0m\u001B[0mupdate_progress\u001B[0m\u001B[0;34m(\u001B[0m\u001B[0;34m)\u001B[0m\u001B[0;34m\u001B[0m\u001B[0;34m\u001B[0m\u001B[0m\n\u001B[1;32m     90\u001B[0m \u001B[0;34m\u001B[0m\u001B[0m\n",
      "\u001B[0;32m~/Documents/WIET/IntObl/AGHComputationalIntelligence/clonal_selection/clonal_selection_anti_worse_pro_elite.py\u001B[0m in \u001B[0;36mstep\u001B[0;34m(self)\u001B[0m\n\u001B[1;32m     69\u001B[0m         \u001B[0mmean_worse_specie\u001B[0m \u001B[0;34m=\u001B[0m \u001B[0mself\u001B[0m\u001B[0;34m.\u001B[0m\u001B[0mget_mean_specie\u001B[0m\u001B[0;34m(\u001B[0m\u001B[0mworse_population_selected\u001B[0m\u001B[0;34m)\u001B[0m\u001B[0;34m\u001B[0m\u001B[0;34m\u001B[0m\u001B[0m\n\u001B[1;32m     70\u001B[0m         \u001B[0;32mfor\u001B[0m \u001B[0mclone\u001B[0m \u001B[0;32min\u001B[0m \u001B[0mclones\u001B[0m\u001B[0;34m:\u001B[0m\u001B[0;34m\u001B[0m\u001B[0;34m\u001B[0m\u001B[0m\n\u001B[0;32m---> 71\u001B[0;31m             \u001B[0mmutated_clone\u001B[0m \u001B[0;34m=\u001B[0m \u001B[0mself\u001B[0m\u001B[0;34m.\u001B[0m\u001B[0mmutate\u001B[0m\u001B[0;34m(\u001B[0m\u001B[0mclone\u001B[0m\u001B[0;34m,\u001B[0m \u001B[0mmean_best_specie\u001B[0m\u001B[0;34m,\u001B[0m \u001B[0mmean_worse_specie\u001B[0m\u001B[0;34m)\u001B[0m\u001B[0;34m\u001B[0m\u001B[0;34m\u001B[0m\u001B[0m\n\u001B[0m\u001B[1;32m     72\u001B[0m             \u001B[0mtemp_clones\u001B[0m\u001B[0;34m.\u001B[0m\u001B[0madd\u001B[0m\u001B[0;34m(\u001B[0m\u001B[0;34m(\u001B[0m\u001B[0mmutated_clone\u001B[0m\u001B[0;34m,\u001B[0m \u001B[0mself\u001B[0m\u001B[0;34m.\u001B[0m\u001B[0maffinity\u001B[0m\u001B[0;34m(\u001B[0m\u001B[0mmutated_clone\u001B[0m\u001B[0;34m)\u001B[0m\u001B[0;34m)\u001B[0m\u001B[0;34m)\u001B[0m\u001B[0;34m\u001B[0m\u001B[0;34m\u001B[0m\u001B[0m\n\u001B[1;32m     73\u001B[0m         \u001B[0mclones\u001B[0m \u001B[0;34m=\u001B[0m \u001B[0mtemp_clones\u001B[0m\u001B[0;34m\u001B[0m\u001B[0;34m\u001B[0m\u001B[0m\n",
      "\u001B[0;32m~/Documents/WIET/IntObl/AGHComputationalIntelligence/clonal_selection/clonal_selection_anti_worse_pro_elite.py\u001B[0m in \u001B[0;36mmutate\u001B[0;34m(self, specie, mean_elite_specie, mean_worse_specie)\u001B[0m\n\u001B[1;32m     89\u001B[0m                 \u001B[0;32mif\u001B[0m \u001B[0mrandom\u001B[0m\u001B[0;34m.\u001B[0m\u001B[0mrandom\u001B[0m\u001B[0;34m(\u001B[0m\u001B[0;34m)\u001B[0m \u001B[0;34m<\u001B[0m \u001B[0mself\u001B[0m\u001B[0;34m.\u001B[0m\u001B[0mpush_probability\u001B[0m\u001B[0;34m:\u001B[0m\u001B[0;34m\u001B[0m\u001B[0;34m\u001B[0m\u001B[0m\n\u001B[1;32m     90\u001B[0m                     \u001B[0;32mif\u001B[0m \u001B[0mmean_worse_specie\u001B[0m\u001B[0;34m[\u001B[0m\u001B[0mi\u001B[0m\u001B[0;34m]\u001B[0m \u001B[0;34m>\u001B[0m \u001B[0mspecie\u001B[0m\u001B[0;34m.\u001B[0m\u001B[0mvariables\u001B[0m\u001B[0;34m[\u001B[0m\u001B[0mi\u001B[0m\u001B[0;34m]\u001B[0m\u001B[0;34m:\u001B[0m\u001B[0;34m\u001B[0m\u001B[0;34m\u001B[0m\u001B[0m\n\u001B[0;32m---> 91\u001B[0;31m                         \u001B[0mspecie\u001B[0m\u001B[0;34m.\u001B[0m\u001B[0mvariables\u001B[0m\u001B[0;34m[\u001B[0m\u001B[0mi\u001B[0m\u001B[0;34m]\u001B[0m \u001B[0;34m-=\u001B[0m \u001B[0;34m(\u001B[0m\u001B[0mspecie\u001B[0m\u001B[0;34m.\u001B[0m\u001B[0mvariables\u001B[0m\u001B[0;34m[\u001B[0m\u001B[0mi\u001B[0m\u001B[0;34m]\u001B[0m \u001B[0;34m-\u001B[0m \u001B[0mspecie\u001B[0m\u001B[0;34m.\u001B[0m\u001B[0mlower_bound\u001B[0m\u001B[0;34m[\u001B[0m\u001B[0mi\u001B[0m\u001B[0;34m]\u001B[0m\u001B[0;34m)\u001B[0m \u001B[0;34m*\u001B[0m \u001B[0mrandom\u001B[0m\u001B[0;34m.\u001B[0m\u001B[0mrandom\u001B[0m\u001B[0;34m(\u001B[0m\u001B[0;34m)\u001B[0m\u001B[0;34m\u001B[0m\u001B[0;34m\u001B[0m\u001B[0m\n\u001B[0m\u001B[1;32m     92\u001B[0m                     \u001B[0;32melse\u001B[0m\u001B[0;34m:\u001B[0m\u001B[0;34m\u001B[0m\u001B[0;34m\u001B[0m\u001B[0m\n\u001B[1;32m     93\u001B[0m                         \u001B[0mspecie\u001B[0m\u001B[0;34m.\u001B[0m\u001B[0mvariables\u001B[0m\u001B[0;34m[\u001B[0m\u001B[0mi\u001B[0m\u001B[0;34m]\u001B[0m \u001B[0;34m+=\u001B[0m \u001B[0;34m(\u001B[0m\u001B[0mspecie\u001B[0m\u001B[0;34m.\u001B[0m\u001B[0mupper_bound\u001B[0m\u001B[0;34m[\u001B[0m\u001B[0mi\u001B[0m\u001B[0;34m]\u001B[0m \u001B[0;34m-\u001B[0m \u001B[0mspecie\u001B[0m\u001B[0;34m.\u001B[0m\u001B[0mvariables\u001B[0m\u001B[0;34m[\u001B[0m\u001B[0mi\u001B[0m\u001B[0;34m]\u001B[0m\u001B[0;34m)\u001B[0m \u001B[0;34m*\u001B[0m \u001B[0mrandom\u001B[0m\u001B[0;34m.\u001B[0m\u001B[0mrandom\u001B[0m\u001B[0;34m(\u001B[0m\u001B[0;34m)\u001B[0m\u001B[0;34m\u001B[0m\u001B[0;34m\u001B[0m\u001B[0m\n",
      "\u001B[0;31mKeyboardInterrupt\u001B[0m: "
     ]
    }
   ],
   "source": [
    "max_evaluations = 800\n",
    "number_of_tries = 3\n",
    "\n",
    "for n, ps, ss, (pull, push, random), mp, cr, rcn in grid:\n",
    "    problem = Rastrigin(number_of_variables=n)\n",
    "    results = []\n",
    "    histories = []\n",
    "    for i in range(number_of_tries):\n",
    "        cs_algo = ClonalSelectionAntiWorseProElite(\n",
    "            problem=problem,\n",
    "            population_size=ps,\n",
    "            selection_size=int(ss * ps),\n",
    "            clone_rate = int(cr * ps), \n",
    "            random_cells_number = int(rcn * ps),\n",
    "            pull_probability=pull,\n",
    "            push_probability=push,\n",
    "            random_probability=random,\n",
    "            mutation_probability = mp,\n",
    "            termination_criterion=StoppingByEvaluations(max_evaluations=max_evaluations),\n",
    "#             debug=True\n",
    "        )\n",
    "\n",
    "        cs_algo.run()\n",
    "        results.append(cs_algo.get_result())\n",
    "        histories.append([s.objectives[0] for s in cs_algo.history])\n",
    "\n",
    "    print('Algorithm: ' + cs_algo.get_name())\n",
    "    print('Problem: ' + problem.get_name())\n",
    "    print('Solution: ' + str(get_mean_solution(results)))\n",
    "    print('Fitness:  ' + str(get_mean_result(results)))\n",
    "    cs_history = get_mean_history(histories)\n",
    "\n",
    "    results = {\n",
    "        \"problem\":\"Rastrigin\", \n",
    "        \"number_of_variables\": n, \n",
    "        \"population_size\": ps,\n",
    "        \"selection_size\": ss,\n",
    "        \"pull\": pull,\n",
    "        \"push\": push,\n",
    "        \"random\": random,\n",
    "        \"mutation_probability\":mp,\n",
    "        \"clone_rate\": cr,\n",
    "        \"random_cells_number\":rcn,\n",
    "        \"results\": histories}\n",
    "    with open(f'results_elite/clonal_selection_elite_{problem.get_name()}_{n}_{ps}_{ss}_{pull}_{push}_{random}_{mp}_{cr}_{rcn}.json', 'w') as outfile:\n",
    "        json.dump(results, outfile)"
   ]
  },
  {
   "cell_type": "code",
   "execution_count": null,
   "metadata": {},
   "outputs": [],
   "source": []
  }
 ],
 "metadata": {
  "kernelspec": {
   "display_name": "ComputationalIntelligence",
   "language": "python",
   "name": "computationalintelligence"
  },
  "language_info": {
   "codemirror_mode": {
    "name": "ipython",
    "version": 3
   },
   "file_extension": ".py",
   "mimetype": "text/x-python",
   "name": "python",
   "nbconvert_exporter": "python",
   "pygments_lexer": "ipython3",
   "version": "3.8.5"
  }
 },
 "nbformat": 4,
 "nbformat_minor": 2
}