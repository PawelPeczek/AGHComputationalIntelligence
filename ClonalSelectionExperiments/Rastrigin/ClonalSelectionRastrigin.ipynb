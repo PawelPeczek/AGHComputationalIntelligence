{
 "cells": [
  {
   "cell_type": "code",
   "execution_count": 15,
   "metadata": {},
   "outputs": [],
   "source": [
    "import sys\n",
    "\n",
    "sys.path.append(\"../\")"
   ]
  },
  {
   "cell_type": "code",
   "execution_count": 27,
   "metadata": {},
   "outputs": [],
   "source": [
    "from clonal_selection.clonal_selection_anti_worse_pro_elite import ClonalSelectionAntiWorseProElite\n",
    "from clonal_selection.clonal_selection_cognitive import ClonalSelectionCognitive\n",
    "from clonal_selection.util import get_mean_solution, get_mean_result, get_mean_history\n",
    "from jmetal.problem.singleobjective.unconstrained import Rastrigin\n",
    "from jmetal.util.termination_criterion import StoppingByEvaluations\n",
    "\n",
    "from jmetal.operator import PolynomialMutation, SimpleRandomMutation\n",
    "\n",
    "from clonal_selection.clonal_selection import ClonalSelection\n",
    "import pandas as pd\n",
    "import time"
   ]
  },
  {
   "cell_type": "code",
   "execution_count": 34,
   "metadata": {},
   "outputs": [],
   "source": [
    "import itertools \n",
    "from pprint import pprint"
   ]
  },
  {
   "cell_type": "markdown",
   "metadata": {},
   "source": [
    "# Clonal Selection"
   ]
  },
  {
   "cell_type": "code",
   "execution_count": 36,
   "metadata": {},
   "outputs": [
    {
     "name": "stdout",
     "output_type": "stream",
     "text": [
      "[(50, 100, 0.1, 'polynomial', 1, 0.1, 0.1),\n",
      " (50, 100, 0.1, 'polynomial', 1, 0.1, 0.25),\n",
      " (50, 100, 0.1, 'polynomial', 1, 0.1, 0.5),\n",
      " (50, 100, 0.1, 'polynomial', 1, 0.25, 0.1),\n",
      " (50, 100, 0.1, 'polynomial', 1, 0.25, 0.25)]\n"
     ]
    }
   ],
   "source": [
    "number_of_variables = [50, 100, 200] # 500?\n",
    "population_size = [100, 200, 500]\n",
    "selection_size = [2/20, 3/20, 4/20,  5/20]\n",
    "mutation = [\"polynomial\", \"random\"]\n",
    "mutation_probability = [1,2,5]\n",
    "clone_rate = [2/20, 5/20, 10/20]\n",
    "random_cells_number = [2/20,5/20,10/20]\n",
    "\n",
    "grid = [number_of_variables, population_size, selection_size, mutation, mutation_probability, clone_rate, random_cells_number]\n",
    "\n",
    "grid = list(itertools.product(*grid))\n",
    "pprint(grid[:5])"
   ]
  },
  {
   "cell_type": "code",
   "execution_count": null,
   "metadata": {},
   "outputs": [],
   "source": [
    "max_evaluations = 10\n",
    "number_of_tries = 2\n",
    "\n",
    "for n, ps, ss, m, mp, cr, rcn in grid:\n",
    "    problem = Rastrigin(number_of_variables=n)\n",
    "    results = []\n",
    "    histories = []\n",
    "    for i in range(number_of_tries):\n",
    "        cs_algo = ClonalSelection(\n",
    "            problem=problem,\n",
    "            population_size=ps,\n",
    "            selection_size=int(ss * ps),\n",
    "            clone_rate = int(cr * ps), \n",
    "            random_cells_number = int(rcn * ps),\n",
    "            mutation=PolynomialMutation(probability = mp / problem.number_of_variables) if m == \"polynomial\" else SimpleRandomMutation(probability = mp / problem.number_of_variables),\n",
    "            termination_criterion=StoppingByEvaluations(max_evaluations=max_evaluations),\n",
    "            debug=True\n",
    "        )\n",
    "\n",
    "        cs_algo.run()\n",
    "        results.append(cs_algo.get_result())\n",
    "        histories.append([s.objectives[0] for s in cs_algo.history])\n",
    "\n",
    "    print('Algorithm: ' + cs_algo.get_name())\n",
    "    print('Problem: ' + problem.get_name())\n",
    "    print('Solution: ' + str(get_mean_solution(results)))\n",
    "    print('Fitness:  ' + str(get_mean_result(results)))\n",
    "    cs_history = get_mean_history(histories)\n",
    "\n",
    "    results = {\n",
    "        \"problem\":\"Rastrigin\", \n",
    "        \"number_of_variables\": n, \n",
    "        \"population_size\": ps,\n",
    "        \"selection_size\": ss,\n",
    "        \"mutation\": m,\n",
    "        \"mutation_probability\":mp, \n",
    "        \"clone_rate\": cr,\n",
    "        \"random_cells_number\":rcn,\n",
    "        \"results\": histories}\n",
    "    with open(f'clonal_selection_rastrigin_{n}_{ps}_{ss}_{m}_{mp}_{cr}_{rcn}.json', 'w') as outfile:\n",
    "        json.dump(results, outfile)"
   ]
  }
 ],
 "metadata": {
  "kernelspec": {
   "display_name": "ComputationalIntelligence",
   "language": "python",
   "name": "computationalintelligence"
  },
  "language_info": {
   "codemirror_mode": {
    "name": "ipython",
    "version": 3
   },
   "file_extension": ".py",
   "mimetype": "text/x-python",
   "name": "python",
   "nbconvert_exporter": "python",
   "pygments_lexer": "ipython3",
   "version": "3.8.5"
  }
 },
 "nbformat": 4,
 "nbformat_minor": 2
}
